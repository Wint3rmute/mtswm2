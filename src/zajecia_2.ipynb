{
 "cells": [
  {
   "cell_type": "markdown",
   "metadata": {},
   "source": [
    "# Wstęp\n",
    "\n",
    "Cośtam wstęp hehe"
   ]
  },
  {
   "cell_type": "code",
   "execution_count": 20,
   "metadata": {},
   "outputs": [],
   "source": [
    "from parse_stroke_data_file import get_all_data_files\n",
    "from parse_dataset_description import get_readme_features_and_diagnoses\n",
    "\n",
    "from IPython.core.display import display, HTML\n",
    "\n",
    "import numpy as np\n",
    "from pandas import DataFrame\n",
    "\n",
    "from sklearn.feature_selection import chi2, mutual_info_classif"
   ]
  },
  {
   "cell_type": "code",
   "execution_count": 21,
   "metadata": {},
   "outputs": [
    {
     "data": {
      "text/html": [
       "<h3>FEATURES</h3>"
      ],
      "text/plain": [
       "<IPython.core.display.HTML object>"
      ]
     },
     "metadata": {},
     "output_type": "display_data"
    },
    {
     "name": "stdout",
     "output_type": "stream",
     "text": [
      "                                         0\n",
      "0                                      Age\n",
      "1                                      Sex\n",
      "2                            Pain location\n",
      "3                     Chest pain radiation\n",
      "4                           Pain character\n",
      "5                            Onset of pain\n",
      "6              Number of hours since onset\n",
      "7             Duration of the last episode\n",
      "8                                   Nausea\n",
      "9                              Diaphoresis\n",
      "10                            Palpitations\n",
      "11                                 Dyspnea\n",
      "12                       Dizziness/syncope\n",
      "13                                 Burping\n",
      "14                      Palliative factors\n",
      "15           Prior chest pain of this type\n",
      "16      Physician consulted for prior pain\n",
      "17             Prior pain related to heart\n",
      "18                    Prior pain due to MI\n",
      "19      Prior pain due to angina prectoris\n",
      "20                                Prior MI\n",
      "21                  Prior angina prectoris\n",
      "22               Prior atypical chest pain\n",
      "23                Congestive heart failure\n",
      "24             Peripheral vascular disease\n",
      "25                           Hiatal hernia\n",
      "26                            Hypertension\n",
      "27                                Diabetes\n",
      "28                                  Smoker\n",
      "29                               Diuretics\n",
      "30                                Nitrates\n",
      "31                           Beta blockers\n",
      "32                               Digitalis\n",
      "33          Nonsteroidal anti-inflammatory\n",
      "34                    Antacids/H2 blockers\n",
      "35                 Systolic blood pressure\n",
      "36                Diastolic blood pressure\n",
      "37                              Heart rate\n",
      "38                        Respiration rate\n",
      "39                                   Rales\n",
      "40                                Cyanosis\n",
      "41                                  Pallor\n",
      "42                         Systolic murmur\n",
      "43                        Diastolic murmur\n",
      "44                                  Oedema\n",
      "45                               S3 gallop\n",
      "46                               S4 gallop\n",
      "47                   Chest wall tenderness\n",
      "48                             Diaphoresis\n",
      "49                              New Q wave\n",
      "50                              Any Q wave\n",
      "51                New ST segment elevation\n",
      "52                Any ST segment elevation\n",
      "53               New ST segment depression\n",
      "54               Any ST segment depression\n",
      "55                    New T wave inversion\n",
      "56                    Any T wave inversion\n",
      "57  New intraventricular conduction defect\n",
      "58  Any intraventricular conduction defect\n"
     ]
    },
    {
     "data": {
      "text/html": [
       "<h3>DIAGNOSES</h3>"
      ],
      "text/plain": [
       "<IPython.core.display.HTML object>"
      ]
     },
     "metadata": {},
     "output_type": "display_data"
    },
    {
     "data": {
      "text/html": [
       "<script>alert('js to gowno')</script>"
      ],
      "text/plain": [
       "<IPython.core.display.HTML object>"
      ]
     },
     "metadata": {},
     "output_type": "display_data"
    },
    {
     "name": "stdout",
     "output_type": "stream",
     "text": [
      "                                                   0\n",
      "0                    Pain of non-heart origin - inne\n",
      "1                                   Angina prectoris\n",
      "2  Angina prectoris - Prinzmetal variant – ang.pr...\n",
      "3             Myocardial infraction transmural) - mi\n",
      "4      Myocardial infraction subendocardial) – mi-np\n"
     ]
    }
   ],
   "source": [
    "readme_features, readme_diagnoses = get_readme_features_and_diagnoses()\n",
    "\n",
    "display(HTML(\"<h3>FEATURES</h3>\"))\n",
    "print(DataFrame(readme_features))\n",
    "\n",
    "display(HTML(\"<h3>DIAGNOSES</h3>\"))\n",
    "display(HTML(\"<script>alert('js to gowno')</script>\"))\n",
    "print(DataFrame(readme_diagnoses))"
   ]
  },
  {
   "cell_type": "code",
   "execution_count": 22,
   "metadata": {},
   "outputs": [
    {
     "name": "stdout",
     "output_type": "stream",
     "text": [
      "(230, 59)\n",
      "(142, 59)\n"
     ]
    }
   ],
   "source": [
    "# Read in all the data\n",
    "\n",
    "datas = get_all_data_files()\n",
    "\n",
    "(\n",
    "    non_heart_origin_pain_data,\n",
    "    angina_prectoris_data,\n",
    "    angina_prectoris_2_data,\n",
    "    mi_data,\n",
    "    mi_np_data,\n",
    ") = datas\n",
    "\n",
    "# Make sure that the data after concatenation is\n",
    "# still in format (number_of_specimen, number_of_features)\n",
    "print(non_heart_origin_pain_data.shape)\n",
    "print(angina_prectoris_data.shape)"
   ]
  },
  {
   "cell_type": "code",
   "execution_count": 23,
   "metadata": {},
   "outputs": [
    {
     "name": "stdout",
     "output_type": "stream",
     "text": [
      "(901, 59)\n"
     ]
    }
   ],
   "source": [
    "# Concatenating all the input data matrixes\n",
    "scikit_compliant_x_matrix = np.concatenate([*datas])\n",
    "# Make sure that the data after concatenation is\n",
    "# still in format (number_of_specimen, number_of_features)\n",
    "print(scikit_compliant_x_matrix.shape)"
   ]
  },
  {
   "cell_type": "code",
   "execution_count": 24,
   "metadata": {},
   "outputs": [],
   "source": [
    "# Time to generate the Y values..\n",
    "scikit_compliant_y_matrix = np.concatenate(\n",
    "    [np.full(data.shape[0], index) for (index, data) in enumerate(datas)]\n",
    ")"
   ]
  },
  {
   "cell_type": "code",
   "execution_count": 25,
   "metadata": {},
   "outputs": [],
   "source": [
    "chi2_score = chi2(\n",
    "    scikit_compliant_x_matrix,\n",
    "    scikit_compliant_y_matrix\n",
    ")"
   ]
  },
  {
   "cell_type": "code",
   "execution_count": 41,
   "metadata": {},
   "outputs": [],
   "source": [
    "mutual_info_classif_score = mutual_info_classif(\n",
    "    scikit_compliant_x_matrix,\n",
    "    scikit_compliant_y_matrix,\n",
    "    random_state=3\n",
    ")"
   ]
  },
  {
   "cell_type": "code",
   "execution_count": 42,
   "metadata": {},
   "outputs": [
    {
     "name": "stdout",
     "output_type": "stream",
     "text": [
      "Systolic blood pressure: 0.4023520247569694\n",
      "Respiration rate: 0.39863966261831196\n",
      "Pain location: 0.31712001339129126\n",
      "New ST segment depression: 0.313654574452118\n",
      "New Q wave: 0.27492370219093054\n",
      "Any ST segment depression: 0.24052721157584944\n",
      "New ST segment elevation: 0.23973693478905655\n",
      "Number of hours since onset: 0.22666517092473448\n",
      "Diastolic blood pressure: 0.22587869969059682\n",
      "New T wave inversion: 0.22133953619863123\n",
      "Heart rate: 0.21132874088228126\n",
      "New intraventricular conduction defect: 0.2066768753254169\n",
      "Any T wave inversion: 0.20424533158760294\n",
      "Any Q wave: 0.15725882732326601\n",
      "Chest pain radiation: 0.14702377674392508\n",
      "Palpitations: 0.14455238251686664\n",
      "S4 gallop: 0.13419330491409376\n",
      "Prior angina prectoris: 0.13035225856699117\n",
      "S3 gallop: 0.12953609945161393\n",
      "Prior pain related to heart: 0.12873680189350223\n",
      "Any intraventricular conduction defect: 0.12356625742538796\n",
      "Diastolic murmur: 0.11845185274183079\n",
      "Dizziness/syncope: 0.11808357675186709\n",
      "Digitalis: 0.11124364643971285\n",
      "Hiatal hernia: 0.11082888345363395\n",
      "Congestive heart failure: 0.10842677399805778\n",
      "Systolic murmur: 0.10623800389981852\n",
      "Palliative factors: 0.10106366576435111\n",
      "Age: 0.1008792605643456\n",
      "Chest wall tenderness: 0.09508333935432356\n",
      "Prior atypical chest pain: 0.09338042405143687\n",
      "Beta blockers: 0.08916240818814636\n",
      "Nitrates: 0.08854588179253264\n",
      "Duration of the last episode: 0.081646805407257\n",
      "Prior pain due to angina prectoris: 0.07688347320868161\n",
      "Any ST segment elevation: 0.07566435163083307\n",
      "Burping: 0.07375060958345658\n",
      "Prior pain due to MI: 0.06788353120345114\n",
      "Antacids/H2 blockers: 0.06781566807783346\n",
      "Smoker: 0.06541215768954167\n",
      "Onset of pain: 0.06394537007665813\n",
      "Nonsteroidal anti-inflammatory: 0.06377576779516936\n",
      "Rales: 0.05653646422622138\n",
      "Cyanosis: 0.055591120073979816\n",
      "Pallor: 0.05363920910632114\n",
      "Diaphoresis: 0.03989976799157935\n",
      "Diabetes: 0.038660005671659725\n",
      "Dyspnea: 0.03816324402857241\n",
      "Prior chest pain of this type: 0.036927728419513084\n",
      "Pain character: 0.0285609869845449\n",
      "Sex: 0.02621339855750815\n",
      "Peripheral vascular disease: 0.023048991893830806\n",
      "Prior MI: 0.022752022432851682\n",
      "Nausea: 0.02025768094639968\n",
      "Hypertension: 0.014220098802627312\n",
      "Physician consulted for prior pain: 0.007932664227564779\n",
      "Oedema: 0.005737202524309204\n",
      "Diaphoresis: 0.0033388047807574317\n",
      "Diuretics: 0.0\n"
     ]
    }
   ],
   "source": [
    "features_with_scores = list(zip(readme_features, mutual_info_classif_score))\n",
    "features_with_scores.sort(key=lambda tup: tup[1] ,reverse=True)\n",
    "\n",
    "# print(features_with_scores)\n",
    "for feature, score in features_with_scores:\n",
    "    print(f'{feature}: {score}')"
   ]
  },
  {
   "cell_type": "code",
   "execution_count": null,
   "metadata": {},
   "outputs": [],
   "source": []
  }
 ],
 "metadata": {
  "kernelspec": {
   "display_name": "Python 3",
   "language": "python",
   "name": "python3"
  },
  "language_info": {
   "codemirror_mode": {
    "name": "ipython",
    "version": 3
   },
   "file_extension": ".py",
   "mimetype": "text/x-python",
   "name": "python",
   "nbconvert_exporter": "python",
   "pygments_lexer": "ipython3",
   "version": "3.8.6"
  }
 },
 "nbformat": 4,
 "nbformat_minor": 4
}
